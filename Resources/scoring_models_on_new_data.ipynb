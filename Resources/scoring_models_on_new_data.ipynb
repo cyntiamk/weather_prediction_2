{
 "cells": [
  {
   "cell_type": "code",
   "execution_count": 1,
   "metadata": {},
   "outputs": [],
   "source": [
    "import pandas as pd\n",
    "import csv\n",
    "import os\n",
    "import sqlite3"
   ]
  },
  {
   "cell_type": "code",
   "execution_count": 2,
   "metadata": {
    "scrolled": true
   },
   "outputs": [],
   "source": [
    "connex = sqlite3.connect(\"../weather_predict.db\")  # Opens file if exists, else creates file\n",
    "cur = connex.cursor()"
   ]
  },
  {
   "cell_type": "code",
   "execution_count": 3,
   "metadata": {},
   "outputs": [],
   "source": [
    "city1 = 'Salvador_recent_features'\n",
    "query1 = \"SELECT * FROM \" + city1"
   ]
  },
  {
   "cell_type": "code",
   "execution_count": 4,
   "metadata": {
    "scrolled": true
   },
   "outputs": [
    {
     "data": {
      "text/html": [
       "<div>\n",
       "<style scoped>\n",
       "    .dataframe tbody tr th:only-of-type {\n",
       "        vertical-align: middle;\n",
       "    }\n",
       "\n",
       "    .dataframe tbody tr th {\n",
       "        vertical-align: top;\n",
       "    }\n",
       "\n",
       "    .dataframe thead th {\n",
       "        text-align: right;\n",
       "    }\n",
       "</style>\n",
       "<table border=\"1\" class=\"dataframe\">\n",
       "  <thead>\n",
       "    <tr style=\"text-align: right;\">\n",
       "      <th></th>\n",
       "      <th>Date</th>\n",
       "      <th>Avg_temp</th>\n",
       "      <th>Avg_dwp</th>\n",
       "      <th>Temp_max</th>\n",
       "      <th>Max_dwp</th>\n",
       "      <th>Temp_min</th>\n",
       "      <th>Min_dwp</th>\n",
       "      <th>Avg_temp_1</th>\n",
       "      <th>Avg_temp_2</th>\n",
       "      <th>Avg_temp_3</th>\n",
       "      <th>...</th>\n",
       "      <th>Temp_max_3</th>\n",
       "      <th>Max_dwp_1</th>\n",
       "      <th>Max_dwp_2</th>\n",
       "      <th>Max_dwp_3</th>\n",
       "      <th>Temp_min_1</th>\n",
       "      <th>Temp_min_2</th>\n",
       "      <th>Temp_min_3</th>\n",
       "      <th>Min_dwp_1</th>\n",
       "      <th>Min_dwp_2</th>\n",
       "      <th>Min_dwp_3</th>\n",
       "    </tr>\n",
       "  </thead>\n",
       "  <tbody>\n",
       "    <tr>\n",
       "      <th>0</th>\n",
       "      <td>2019-01-22</td>\n",
       "      <td>28.562917</td>\n",
       "      <td>22.696250</td>\n",
       "      <td>31.0</td>\n",
       "      <td>26.51</td>\n",
       "      <td>26.51</td>\n",
       "      <td>21.0</td>\n",
       "      <td>28.884615</td>\n",
       "      <td>28.756667</td>\n",
       "      <td>29.571429</td>\n",
       "      <td>...</td>\n",
       "      <td>31.0</td>\n",
       "      <td>24.20</td>\n",
       "      <td>27.08</td>\n",
       "      <td>23.40</td>\n",
       "      <td>27.00</td>\n",
       "      <td>27.00</td>\n",
       "      <td>28.00</td>\n",
       "      <td>21.8</td>\n",
       "      <td>21.8</td>\n",
       "      <td>21.8</td>\n",
       "    </tr>\n",
       "    <tr>\n",
       "      <th>1</th>\n",
       "      <td>2019-01-23</td>\n",
       "      <td>28.828333</td>\n",
       "      <td>24.028333</td>\n",
       "      <td>31.0</td>\n",
       "      <td>26.88</td>\n",
       "      <td>26.88</td>\n",
       "      <td>22.6</td>\n",
       "      <td>28.562917</td>\n",
       "      <td>28.884615</td>\n",
       "      <td>28.756667</td>\n",
       "      <td>...</td>\n",
       "      <td>31.0</td>\n",
       "      <td>26.51</td>\n",
       "      <td>24.20</td>\n",
       "      <td>27.08</td>\n",
       "      <td>26.51</td>\n",
       "      <td>27.00</td>\n",
       "      <td>27.00</td>\n",
       "      <td>21.0</td>\n",
       "      <td>21.8</td>\n",
       "      <td>21.8</td>\n",
       "    </tr>\n",
       "    <tr>\n",
       "      <th>2</th>\n",
       "      <td>2019-01-24</td>\n",
       "      <td>28.236250</td>\n",
       "      <td>24.061250</td>\n",
       "      <td>31.0</td>\n",
       "      <td>25.75</td>\n",
       "      <td>24.92</td>\n",
       "      <td>23.6</td>\n",
       "      <td>28.828333</td>\n",
       "      <td>28.562917</td>\n",
       "      <td>28.884615</td>\n",
       "      <td>...</td>\n",
       "      <td>31.0</td>\n",
       "      <td>26.88</td>\n",
       "      <td>26.51</td>\n",
       "      <td>24.20</td>\n",
       "      <td>26.88</td>\n",
       "      <td>26.51</td>\n",
       "      <td>27.00</td>\n",
       "      <td>22.6</td>\n",
       "      <td>21.0</td>\n",
       "      <td>21.8</td>\n",
       "    </tr>\n",
       "    <tr>\n",
       "      <th>3</th>\n",
       "      <td>2019-01-25</td>\n",
       "      <td>29.041667</td>\n",
       "      <td>23.116667</td>\n",
       "      <td>31.0</td>\n",
       "      <td>24.80</td>\n",
       "      <td>27.00</td>\n",
       "      <td>22.6</td>\n",
       "      <td>28.236250</td>\n",
       "      <td>28.828333</td>\n",
       "      <td>28.562917</td>\n",
       "      <td>...</td>\n",
       "      <td>31.0</td>\n",
       "      <td>25.75</td>\n",
       "      <td>26.88</td>\n",
       "      <td>26.51</td>\n",
       "      <td>24.92</td>\n",
       "      <td>26.88</td>\n",
       "      <td>26.51</td>\n",
       "      <td>23.6</td>\n",
       "      <td>22.6</td>\n",
       "      <td>21.0</td>\n",
       "    </tr>\n",
       "    <tr>\n",
       "      <th>4</th>\n",
       "      <td>2019-01-26</td>\n",
       "      <td>29.000000</td>\n",
       "      <td>22.766667</td>\n",
       "      <td>31.0</td>\n",
       "      <td>24.00</td>\n",
       "      <td>26.00</td>\n",
       "      <td>21.6</td>\n",
       "      <td>29.041667</td>\n",
       "      <td>28.236250</td>\n",
       "      <td>28.828333</td>\n",
       "      <td>...</td>\n",
       "      <td>31.0</td>\n",
       "      <td>24.80</td>\n",
       "      <td>25.75</td>\n",
       "      <td>26.88</td>\n",
       "      <td>27.00</td>\n",
       "      <td>24.92</td>\n",
       "      <td>26.88</td>\n",
       "      <td>22.6</td>\n",
       "      <td>23.6</td>\n",
       "      <td>22.6</td>\n",
       "    </tr>\n",
       "  </tbody>\n",
       "</table>\n",
       "<p>5 rows × 25 columns</p>\n",
       "</div>"
      ],
      "text/plain": [
       "         Date   Avg_temp    Avg_dwp  Temp_max  Max_dwp  Temp_min  Min_dwp  \\\n",
       "0  2019-01-22  28.562917  22.696250      31.0    26.51     26.51     21.0   \n",
       "1  2019-01-23  28.828333  24.028333      31.0    26.88     26.88     22.6   \n",
       "2  2019-01-24  28.236250  24.061250      31.0    25.75     24.92     23.6   \n",
       "3  2019-01-25  29.041667  23.116667      31.0    24.80     27.00     22.6   \n",
       "4  2019-01-26  29.000000  22.766667      31.0    24.00     26.00     21.6   \n",
       "\n",
       "   Avg_temp_1  Avg_temp_2  Avg_temp_3    ...      Temp_max_3  Max_dwp_1  \\\n",
       "0   28.884615   28.756667   29.571429    ...            31.0      24.20   \n",
       "1   28.562917   28.884615   28.756667    ...            31.0      26.51   \n",
       "2   28.828333   28.562917   28.884615    ...            31.0      26.88   \n",
       "3   28.236250   28.828333   28.562917    ...            31.0      25.75   \n",
       "4   29.041667   28.236250   28.828333    ...            31.0      24.80   \n",
       "\n",
       "   Max_dwp_2  Max_dwp_3  Temp_min_1  Temp_min_2  Temp_min_3  Min_dwp_1  \\\n",
       "0      27.08      23.40       27.00       27.00       28.00       21.8   \n",
       "1      24.20      27.08       26.51       27.00       27.00       21.0   \n",
       "2      26.51      24.20       26.88       26.51       27.00       22.6   \n",
       "3      26.88      26.51       24.92       26.88       26.51       23.6   \n",
       "4      25.75      26.88       27.00       24.92       26.88       22.6   \n",
       "\n",
       "   Min_dwp_2  Min_dwp_3  \n",
       "0       21.8       21.8  \n",
       "1       21.8       21.8  \n",
       "2       21.0       21.8  \n",
       "3       22.6       21.0  \n",
       "4       23.6       22.6  \n",
       "\n",
       "[5 rows x 25 columns]"
      ]
     },
     "execution_count": 4,
     "metadata": {},
     "output_type": "execute_result"
    }
   ],
   "source": [
    "df = pd.read_sql(query1, con=connex)\n",
    "#df.sort_values(\"Date\", ascending=False)\n",
    "df.head()"
   ]
  },
  {
   "cell_type": "code",
   "execution_count": 5,
   "metadata": {},
   "outputs": [],
   "source": [
    "predictors = ['Avg_temp_1', 'Avg_temp_2', 'Avg_temp_3', \n",
    "              'Temp_max_1', 'Temp_max_2',\n",
    "              'Temp_min_1', 'Temp_min_3', \n",
    "              'Avg_dwp_2', 'Avg_dwp_3',\n",
    "              'Min_dwp_1','Min_dwp_3']\n",
    "X = df[predictors]\n",
    "\n",
    "y = df['Avg_temp']"
   ]
  },
  {
   "cell_type": "code",
   "execution_count": 6,
   "metadata": {},
   "outputs": [],
   "source": [
    "from sklearn.externals import joblib\n",
    "from sklearn.preprocessing import StandardScaler\n",
    "scaler = joblib.load(open('final_scaler.save','rb'))\n"
   ]
  },
  {
   "cell_type": "code",
   "execution_count": 7,
   "metadata": {},
   "outputs": [],
   "source": [
    "X_scaled = scaler.transform(X)\n"
   ]
  },
  {
   "cell_type": "code",
   "execution_count": 8,
   "metadata": {},
   "outputs": [],
   "source": [
    "import pickle\n",
    "from sklearn.metrics import r2_score, mean_squared_error\n",
    "from sklearn.metrics import mean_absolute_error, median_absolute_error  \n"
   ]
  },
  {
   "cell_type": "code",
   "execution_count": 9,
   "metadata": {},
   "outputs": [],
   "source": [
    "from sklearn.linear_model import Ridge\n",
    "ridge = pickle.load(open('ridge_final_model.pkl', 'rb'))"
   ]
  },
  {
   "cell_type": "code",
   "execution_count": 25,
   "metadata": {},
   "outputs": [],
   "source": [
    "y_ridge_prediction = ridge.predict(X_scaled)"
   ]
  },
  {
   "cell_type": "raw",
   "metadata": {},
   "source": []
  },
  {
   "cell_type": "code",
   "execution_count": 28,
   "metadata": {},
   "outputs": [
    {
     "name": "stdout",
     "output_type": "stream",
     "text": [
      "-1.2995185713915114\n"
     ]
    }
   ],
   "source": [
    "ridge_scored = ridge.score(X_scaled, y)\n",
    "print(ridge_scored)"
   ]
  },
  {
   "cell_type": "code",
   "execution_count": 26,
   "metadata": {},
   "outputs": [
    {
     "data": {
      "text/plain": [
       "0.39641254921626456"
      ]
     },
     "execution_count": 26,
     "metadata": {},
     "output_type": "execute_result"
    }
   ],
   "source": [
    "mse = mean_squared_error(y, y_ridge_prediction)\n",
    "mse"
   ]
  },
  {
   "cell_type": "code",
   "execution_count": 12,
   "metadata": {},
   "outputs": [
    {
     "name": "stdout",
     "output_type": "stream",
     "text": [
      "The R^2 score for test data is: -1.2995185713915114\n"
     ]
    }
   ],
   "source": [
    "r2_ridge = r2_score(y,y_ridge_prediction)\n",
    "\n",
    "print(\"The R^2 score for test data is:\", r2_ridge)"
   ]
  },
  {
   "cell_type": "code",
   "execution_count": 13,
   "metadata": {},
   "outputs": [],
   "source": [
    "from sklearn.linear_model import LinearRegression\n",
    "linear = pickle.load(open('linear_final_model.pkl', 'rb'))"
   ]
  },
  {
   "cell_type": "code",
   "execution_count": 14,
   "metadata": {},
   "outputs": [],
   "source": [
    "y_linear_prediction = linear.predict(X_scaled)"
   ]
  },
  {
   "cell_type": "code",
   "execution_count": 15,
   "metadata": {},
   "outputs": [
    {
     "data": {
      "text/plain": [
       "0.3264974829343768"
      ]
     },
     "execution_count": 15,
     "metadata": {},
     "output_type": "execute_result"
    }
   ],
   "source": [
    " mean_squared_error(y,y_linear_prediction)"
   ]
  },
  {
   "cell_type": "code",
   "execution_count": 16,
   "metadata": {},
   "outputs": [
    {
     "name": "stdout",
     "output_type": "stream",
     "text": [
      "The R^2 score for test data is: -0.8939537282675365\n"
     ]
    }
   ],
   "source": [
    "r2_linear = r2_score(y, y_linear_prediction)\n",
    "\n",
    "print(\"The R^2 score for test data is:\", r2_linear)"
   ]
  },
  {
   "cell_type": "code",
   "execution_count": 17,
   "metadata": {},
   "outputs": [],
   "source": [
    "from sklearn.tree import DecisionTreeRegressor\n",
    "dtm = pickle.load(open('dtm_final_model.pkl', 'rb'))"
   ]
  },
  {
   "cell_type": "code",
   "execution_count": 18,
   "metadata": {},
   "outputs": [],
   "source": [
    "y_dtm_prediction = dtm.predict(X_scaled)"
   ]
  },
  {
   "cell_type": "code",
   "execution_count": 19,
   "metadata": {},
   "outputs": [
    {
     "data": {
      "text/plain": [
       "0.40708312864808427"
      ]
     },
     "execution_count": 19,
     "metadata": {},
     "output_type": "execute_result"
    }
   ],
   "source": [
    " mean_squared_error(y,y_dtm_prediction)"
   ]
  },
  {
   "cell_type": "code",
   "execution_count": 20,
   "metadata": {},
   "outputs": [
    {
     "name": "stdout",
     "output_type": "stream",
     "text": [
      "The R^2 score for test data is: -1.3614167015578986\n"
     ]
    }
   ],
   "source": [
    "r2_dtm = r2_score(y, y_dtm_prediction)\n",
    "\n",
    "print(\"The R^2 score for test data is:\", r2_dtm)"
   ]
  },
  {
   "cell_type": "code",
   "execution_count": 21,
   "metadata": {},
   "outputs": [
    {
     "data": {
      "text/plain": [
       "0.49491092098784667"
      ]
     },
     "execution_count": 21,
     "metadata": {},
     "output_type": "execute_result"
    }
   ],
   "source": [
    "mean_absolute_error(y,y_linear_prediction)"
   ]
  },
  {
   "cell_type": "code",
   "execution_count": 22,
   "metadata": {},
   "outputs": [
    {
     "data": {
      "text/plain": [
       "0.5523123977926073"
      ]
     },
     "execution_count": 22,
     "metadata": {},
     "output_type": "execute_result"
    }
   ],
   "source": [
    "mean_absolute_error(y,y_ridge_prediction)"
   ]
  },
  {
   "cell_type": "code",
   "execution_count": 23,
   "metadata": {},
   "outputs": [
    {
     "data": {
      "text/plain": [
       "0.5076024609448514"
      ]
     },
     "execution_count": 23,
     "metadata": {},
     "output_type": "execute_result"
    }
   ],
   "source": [
    "mean_absolute_error(y,y_dtm_prediction)"
   ]
  },
  {
   "cell_type": "code",
   "execution_count": null,
   "metadata": {},
   "outputs": [],
   "source": []
  }
 ],
 "metadata": {
  "kernelspec": {
   "display_name": "Python [conda env:PythonData]",
   "language": "python",
   "name": "conda-env-PythonData-py"
  },
  "language_info": {
   "codemirror_mode": {
    "name": "ipython",
    "version": 3
   },
   "file_extension": ".py",
   "mimetype": "text/x-python",
   "name": "python",
   "nbconvert_exporter": "python",
   "pygments_lexer": "ipython3",
   "version": "3.6.7"
  }
 },
 "nbformat": 4,
 "nbformat_minor": 2
}
