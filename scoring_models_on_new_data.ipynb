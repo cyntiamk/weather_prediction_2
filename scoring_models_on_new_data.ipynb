{
 "cells": [
  {
   "cell_type": "code",
   "execution_count": 7,
   "metadata": {},
   "outputs": [],
   "source": [
    "import pandas as pd\n",
    "import csv\n",
    "import os\n",
    "import sqlite3"
   ]
  },
  {
   "cell_type": "code",
   "execution_count": 8,
   "metadata": {
    "scrolled": true
   },
   "outputs": [],
   "source": [
    "connex = sqlite3.connect(\"weather_predict.db\")  # Opens file if exists, else creates file\n",
    "cur = connex.cursor()"
   ]
  },
  {
   "cell_type": "code",
   "execution_count": 3,
   "metadata": {},
   "outputs": [],
   "source": [
    "city1 = 'kauai_train_feats'\n",
    "query1 = \"SELECT * FROM \" + city1"
   ]
  },
  {
   "cell_type": "code",
   "execution_count": 4,
   "metadata": {
    "scrolled": true
   },
   "outputs": [
    {
     "data": {
      "text/html": [
       "<div>\n",
       "<style scoped>\n",
       "    .dataframe tbody tr th:only-of-type {\n",
       "        vertical-align: middle;\n",
       "    }\n",
       "\n",
       "    .dataframe tbody tr th {\n",
       "        vertical-align: top;\n",
       "    }\n",
       "\n",
       "    .dataframe thead th {\n",
       "        text-align: right;\n",
       "    }\n",
       "</style>\n",
       "<table border=\"1\" class=\"dataframe\">\n",
       "  <thead>\n",
       "    <tr style=\"text-align: right;\">\n",
       "      <th></th>\n",
       "      <th>Date</th>\n",
       "      <th>Avg_temp</th>\n",
       "      <th>Avg_dwp</th>\n",
       "      <th>Temp_max</th>\n",
       "      <th>Max_dwp</th>\n",
       "      <th>Temp_min</th>\n",
       "      <th>Min_dwp</th>\n",
       "      <th>Avg_temp_1</th>\n",
       "      <th>Avg_temp_2</th>\n",
       "      <th>Avg_temp_3</th>\n",
       "      <th>...</th>\n",
       "      <th>Temp_min_3</th>\n",
       "      <th>Avg_dwp_1</th>\n",
       "      <th>Avg_dwp_2</th>\n",
       "      <th>Avg_dwp_3</th>\n",
       "      <th>Max_dwp_1</th>\n",
       "      <th>Max_dwp_2</th>\n",
       "      <th>Max_dwp_3</th>\n",
       "      <th>Min_dwp_1</th>\n",
       "      <th>Min_dwp_2</th>\n",
       "      <th>Min_dwp_3</th>\n",
       "    </tr>\n",
       "  </thead>\n",
       "  <tbody>\n",
       "    <tr>\n",
       "      <th>0</th>\n",
       "      <td>2017-01-04</td>\n",
       "      <td>21.375000</td>\n",
       "      <td>16.433333</td>\n",
       "      <td>26</td>\n",
       "      <td>20.6</td>\n",
       "      <td>17</td>\n",
       "      <td>12.4</td>\n",
       "      <td>20.625000</td>\n",
       "      <td>21.333333</td>\n",
       "      <td>21.125000</td>\n",
       "      <td>...</td>\n",
       "      <td>17.0</td>\n",
       "      <td>14.250000</td>\n",
       "      <td>12.975000</td>\n",
       "      <td>13.775000</td>\n",
       "      <td>16.6</td>\n",
       "      <td>15.0</td>\n",
       "      <td>16.4</td>\n",
       "      <td>12.4</td>\n",
       "      <td>9.2</td>\n",
       "      <td>9.0</td>\n",
       "    </tr>\n",
       "    <tr>\n",
       "      <th>1</th>\n",
       "      <td>2017-01-05</td>\n",
       "      <td>20.875000</td>\n",
       "      <td>18.433333</td>\n",
       "      <td>26</td>\n",
       "      <td>22.6</td>\n",
       "      <td>17</td>\n",
       "      <td>15.6</td>\n",
       "      <td>21.375000</td>\n",
       "      <td>20.625000</td>\n",
       "      <td>21.333333</td>\n",
       "      <td>...</td>\n",
       "      <td>18.0</td>\n",
       "      <td>16.433333</td>\n",
       "      <td>14.250000</td>\n",
       "      <td>12.975000</td>\n",
       "      <td>20.6</td>\n",
       "      <td>16.6</td>\n",
       "      <td>15.0</td>\n",
       "      <td>12.4</td>\n",
       "      <td>12.4</td>\n",
       "      <td>9.2</td>\n",
       "    </tr>\n",
       "    <tr>\n",
       "      <th>2</th>\n",
       "      <td>2017-01-06</td>\n",
       "      <td>20.458333</td>\n",
       "      <td>15.175000</td>\n",
       "      <td>27</td>\n",
       "      <td>21.6</td>\n",
       "      <td>15</td>\n",
       "      <td>12.4</td>\n",
       "      <td>20.875000</td>\n",
       "      <td>21.375000</td>\n",
       "      <td>20.625000</td>\n",
       "      <td>...</td>\n",
       "      <td>16.0</td>\n",
       "      <td>18.433333</td>\n",
       "      <td>16.433333</td>\n",
       "      <td>14.250000</td>\n",
       "      <td>22.6</td>\n",
       "      <td>20.6</td>\n",
       "      <td>16.6</td>\n",
       "      <td>15.6</td>\n",
       "      <td>12.4</td>\n",
       "      <td>12.4</td>\n",
       "    </tr>\n",
       "    <tr>\n",
       "      <th>3</th>\n",
       "      <td>2017-01-07</td>\n",
       "      <td>21.125000</td>\n",
       "      <td>14.033333</td>\n",
       "      <td>25</td>\n",
       "      <td>16.6</td>\n",
       "      <td>17</td>\n",
       "      <td>11.6</td>\n",
       "      <td>20.458333</td>\n",
       "      <td>20.875000</td>\n",
       "      <td>21.375000</td>\n",
       "      <td>...</td>\n",
       "      <td>17.0</td>\n",
       "      <td>15.175000</td>\n",
       "      <td>18.433333</td>\n",
       "      <td>16.433333</td>\n",
       "      <td>21.6</td>\n",
       "      <td>22.6</td>\n",
       "      <td>20.6</td>\n",
       "      <td>12.4</td>\n",
       "      <td>15.6</td>\n",
       "      <td>12.4</td>\n",
       "    </tr>\n",
       "    <tr>\n",
       "      <th>4</th>\n",
       "      <td>2017-01-08</td>\n",
       "      <td>20.666667</td>\n",
       "      <td>14.883333</td>\n",
       "      <td>26</td>\n",
       "      <td>20.6</td>\n",
       "      <td>17</td>\n",
       "      <td>9.8</td>\n",
       "      <td>21.125000</td>\n",
       "      <td>20.458333</td>\n",
       "      <td>20.875000</td>\n",
       "      <td>...</td>\n",
       "      <td>17.0</td>\n",
       "      <td>14.033333</td>\n",
       "      <td>15.175000</td>\n",
       "      <td>18.433333</td>\n",
       "      <td>16.6</td>\n",
       "      <td>21.6</td>\n",
       "      <td>22.6</td>\n",
       "      <td>11.6</td>\n",
       "      <td>12.4</td>\n",
       "      <td>15.6</td>\n",
       "    </tr>\n",
       "  </tbody>\n",
       "</table>\n",
       "<p>5 rows × 25 columns</p>\n",
       "</div>"
      ],
      "text/plain": [
       "         Date   Avg_temp    Avg_dwp  Temp_max  Max_dwp  Temp_min  Min_dwp  \\\n",
       "0  2017-01-04  21.375000  16.433333        26     20.6        17     12.4   \n",
       "1  2017-01-05  20.875000  18.433333        26     22.6        17     15.6   \n",
       "2  2017-01-06  20.458333  15.175000        27     21.6        15     12.4   \n",
       "3  2017-01-07  21.125000  14.033333        25     16.6        17     11.6   \n",
       "4  2017-01-08  20.666667  14.883333        26     20.6        17      9.8   \n",
       "\n",
       "   Avg_temp_1  Avg_temp_2  Avg_temp_3    ...      Temp_min_3  Avg_dwp_1  \\\n",
       "0   20.625000   21.333333   21.125000    ...            17.0  14.250000   \n",
       "1   21.375000   20.625000   21.333333    ...            18.0  16.433333   \n",
       "2   20.875000   21.375000   20.625000    ...            16.0  18.433333   \n",
       "3   20.458333   20.875000   21.375000    ...            17.0  15.175000   \n",
       "4   21.125000   20.458333   20.875000    ...            17.0  14.033333   \n",
       "\n",
       "   Avg_dwp_2  Avg_dwp_3  Max_dwp_1  Max_dwp_2  Max_dwp_3  Min_dwp_1  \\\n",
       "0  12.975000  13.775000       16.6       15.0       16.4       12.4   \n",
       "1  14.250000  12.975000       20.6       16.6       15.0       12.4   \n",
       "2  16.433333  14.250000       22.6       20.6       16.6       15.6   \n",
       "3  18.433333  16.433333       21.6       22.6       20.6       12.4   \n",
       "4  15.175000  18.433333       16.6       21.6       22.6       11.6   \n",
       "\n",
       "   Min_dwp_2  Min_dwp_3  \n",
       "0        9.2        9.0  \n",
       "1       12.4        9.2  \n",
       "2       12.4       12.4  \n",
       "3       15.6       12.4  \n",
       "4       12.4       15.6  \n",
       "\n",
       "[5 rows x 25 columns]"
      ]
     },
     "execution_count": 4,
     "metadata": {},
     "output_type": "execute_result"
    }
   ],
   "source": [
    "df = pd.read_sql(query1, con=connex)#.set_index('Date')\n",
    "#df.sort_values(\"Date\", ascending=False)\n",
    "df.head()"
   ]
  },
  {
   "cell_type": "code",
   "execution_count": 6,
   "metadata": {},
   "outputs": [
    {
     "name": "stdout",
     "output_type": "stream",
     "text": [
      "(719, 18) (719, 1)\n"
     ]
    }
   ],
   "source": [
    "predictors = ['Avg_temp_1', 'Avg_temp_2', 'Avg_temp_3',\n",
    "              'Temp_max_1','Temp_max_2', 'Temp_max_3',\n",
    "              'Temp_min_1', 'Temp_min_2', 'Temp_min_3',\n",
    "              'Avg_dwp_1', 'Avg_dwp_2', 'Avg_dwp_3', \n",
    "              'Max_dwp_1', 'Max_dwp_2','Max_dwp_3', \n",
    "              'Min_dwp_1', 'Min_dwp_2', 'Min_dwp_3']\n",
    "              \n",
    "X = df[predictors]\n",
    "#X = weather.loc[:, weather.columns != 'Avg_temp']\n",
    "y = df['Avg_temp'].values.reshape(-1,1)\n",
    "print(X.shape, y.shape)"
   ]
  },
  {
   "cell_type": "code",
   "execution_count": 6,
   "metadata": {},
   "outputs": [],
   "source": [
    "from sklearn.externals import joblib\n",
    "scaler = joblib.load(open('concat_scaler.save','rb'))\n"
   ]
  },
  {
   "cell_type": "code",
   "execution_count": 7,
   "metadata": {},
   "outputs": [],
   "source": [
    "X_scaled = scaler.transform(X)\n"
   ]
  },
  {
   "cell_type": "code",
   "execution_count": 8,
   "metadata": {},
   "outputs": [],
   "source": [
    "import pickle\n",
    "from sklearn.metrics import r2_score, mean_squared_error\n"
   ]
  },
  {
   "cell_type": "code",
   "execution_count": 9,
   "metadata": {},
   "outputs": [],
   "source": [
    "from sklearn.linear_model import Ridge\n",
    "ridge = pickle.load(open('ridge_concat_feats.pkl', 'rb'))"
   ]
  },
  {
   "cell_type": "code",
   "execution_count": 10,
   "metadata": {},
   "outputs": [],
   "source": [
    "y_ridge_prediction = ridge.predict(X_scaled)"
   ]
  },
  {
   "cell_type": "code",
   "execution_count": 11,
   "metadata": {},
   "outputs": [
    {
     "name": "stdout",
     "output_type": "stream",
     "text": [
      "The R^2 score for test data is: 0.7644630556619796\n"
     ]
    }
   ],
   "source": [
    "r2_ridge = r2_score(y, y_ridge_prediction)\n",
    "\n",
    "print(\"The R^2 score for test data is:\", r2_ridge)"
   ]
  },
  {
   "cell_type": "code",
   "execution_count": 12,
   "metadata": {},
   "outputs": [],
   "source": [
    "from sklearn.linear_model import LinearRegression\n",
    "linear = pickle.load(open('linear_concat_feats.pkl', 'rb'))"
   ]
  },
  {
   "cell_type": "code",
   "execution_count": 13,
   "metadata": {},
   "outputs": [],
   "source": [
    "y_linear_prediction = linear.predict(X_scaled)"
   ]
  },
  {
   "cell_type": "code",
   "execution_count": 14,
   "metadata": {},
   "outputs": [
    {
     "name": "stdout",
     "output_type": "stream",
     "text": [
      "The R^2 score for test data is: 0.8261966128325468\n"
     ]
    }
   ],
   "source": [
    "r2_linear = r2_score(y, y_linear_prediction)\n",
    "\n",
    "print(\"The R^2 score for test data is:\", r2_linear)"
   ]
  },
  {
   "cell_type": "code",
   "execution_count": null,
   "metadata": {},
   "outputs": [],
   "source": []
  }
 ],
 "metadata": {
  "kernelspec": {
   "display_name": "Python [conda env:PythonData]",
   "language": "python",
   "name": "conda-env-PythonData-py"
  },
  "language_info": {
   "codemirror_mode": {
    "name": "ipython",
    "version": 3
   },
   "file_extension": ".py",
   "mimetype": "text/x-python",
   "name": "python",
   "nbconvert_exporter": "python",
   "pygments_lexer": "ipython3",
   "version": "3.6.7"
  }
 },
 "nbformat": 4,
 "nbformat_minor": 2
}
