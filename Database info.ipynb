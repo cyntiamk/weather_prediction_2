{
 "cells": [
  {
   "cell_type": "markdown",
   "metadata": {},
   "source": [
    "# SQLite Database content:\n",
    "\n",
    "Database name : weather_predict.db\n",
    "- Tables with features created to train regression models (features created from Avg_temp, Max_temp, Min_temp, Avg_dwp, Max_dwp, Min_dwp):\n",
    "    1. kyoto_mean_feats\n",
    "    2. manly_mean_feats\n",
    "    3. nice_mean_feats\n",
    "    4. kauai_mean_feats\n",
    "    5. salvador_mean_feats\n"
   ]
  },
  {
   "cell_type": "code",
   "execution_count": null,
   "metadata": {},
   "outputs": [],
   "source": []
  }
 ],
 "metadata": {
  "kernelspec": {
   "display_name": "Python [conda env:PythonData]",
   "language": "python",
   "name": "conda-env-PythonData-py"
  },
  "language_info": {
   "codemirror_mode": {
    "name": "ipython",
    "version": 3
   },
   "file_extension": ".py",
   "mimetype": "text/x-python",
   "name": "python",
   "nbconvert_exporter": "python",
   "pygments_lexer": "ipython3",
   "version": "3.6.7"
  }
 },
 "nbformat": 4,
 "nbformat_minor": 2
}
