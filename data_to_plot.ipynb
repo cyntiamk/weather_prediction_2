{
 "cells": [
  {
   "cell_type": "code",
   "execution_count": 1,
   "metadata": {},
   "outputs": [],
   "source": [
    "import pandas as pd\n",
    "from pandas.plotting import scatter_matrix\n",
    "import matplotlib.pyplot as plt\n",
    "import sqlite3"
   ]
  },
  {
   "cell_type": "code",
   "execution_count": 2,
   "metadata": {},
   "outputs": [],
   "source": [
    "connex = sqlite3.connect(\"weather_predict.db\")  # Opens file if exists, else creates file\n",
    "cur = connex.cursor()"
   ]
  },
  {
   "cell_type": "code",
   "execution_count": 31,
   "metadata": {},
   "outputs": [],
   "source": [
    "query_city = 'Kyoto_prediction'\n",
    "query = \"SELECT * FROM \" + query_city"
   ]
  },
  {
   "cell_type": "code",
   "execution_count": 32,
   "metadata": {},
   "outputs": [],
   "source": [
    "df = pd.read_sql(query, con=connex)"
   ]
  },
  {
   "cell_type": "code",
   "execution_count": 33,
   "metadata": {},
   "outputs": [
    {
     "data": {
      "text/html": [
       "<div>\n",
       "<style scoped>\n",
       "    .dataframe tbody tr th:only-of-type {\n",
       "        vertical-align: middle;\n",
       "    }\n",
       "\n",
       "    .dataframe tbody tr th {\n",
       "        vertical-align: top;\n",
       "    }\n",
       "\n",
       "    .dataframe thead th {\n",
       "        text-align: right;\n",
       "    }\n",
       "</style>\n",
       "<table border=\"1\" class=\"dataframe\">\n",
       "  <thead>\n",
       "    <tr style=\"text-align: right;\">\n",
       "      <th></th>\n",
       "      <th>Date</th>\n",
       "      <th>Actual_avg_temp</th>\n",
       "      <th>Predicted_temp</th>\n",
       "      <th>Difference</th>\n",
       "    </tr>\n",
       "  </thead>\n",
       "  <tbody>\n",
       "    <tr>\n",
       "      <th>10</th>\n",
       "      <td>2019-01-21</td>\n",
       "      <td>43</td>\n",
       "      <td>46</td>\n",
       "      <td>-3</td>\n",
       "    </tr>\n",
       "    <tr>\n",
       "      <th>9</th>\n",
       "      <td>2019-01-22</td>\n",
       "      <td>39</td>\n",
       "      <td>42</td>\n",
       "      <td>-3</td>\n",
       "    </tr>\n",
       "    <tr>\n",
       "      <th>8</th>\n",
       "      <td>2019-01-23</td>\n",
       "      <td>44</td>\n",
       "      <td>40</td>\n",
       "      <td>4</td>\n",
       "    </tr>\n",
       "    <tr>\n",
       "      <th>7</th>\n",
       "      <td>2019-01-24</td>\n",
       "      <td>37</td>\n",
       "      <td>46</td>\n",
       "      <td>-9</td>\n",
       "    </tr>\n",
       "    <tr>\n",
       "      <th>6</th>\n",
       "      <td>2019-01-25</td>\n",
       "      <td>41</td>\n",
       "      <td>40</td>\n",
       "      <td>1</td>\n",
       "    </tr>\n",
       "    <tr>\n",
       "      <th>5</th>\n",
       "      <td>2019-01-26</td>\n",
       "      <td>36</td>\n",
       "      <td>42</td>\n",
       "      <td>-6</td>\n",
       "    </tr>\n",
       "    <tr>\n",
       "      <th>4</th>\n",
       "      <td>2019-01-27</td>\n",
       "      <td>35</td>\n",
       "      <td>34</td>\n",
       "      <td>1</td>\n",
       "    </tr>\n",
       "    <tr>\n",
       "      <th>3</th>\n",
       "      <td>2019-01-28</td>\n",
       "      <td>42</td>\n",
       "      <td>34</td>\n",
       "      <td>8</td>\n",
       "    </tr>\n",
       "    <tr>\n",
       "      <th>2</th>\n",
       "      <td>2019-01-29</td>\n",
       "      <td>35</td>\n",
       "      <td>42</td>\n",
       "      <td>-7</td>\n",
       "    </tr>\n",
       "    <tr>\n",
       "      <th>1</th>\n",
       "      <td>2019-01-30</td>\n",
       "      <td>40</td>\n",
       "      <td>34</td>\n",
       "      <td>6</td>\n",
       "    </tr>\n",
       "    <tr>\n",
       "      <th>0</th>\n",
       "      <td>2019-01-31</td>\n",
       "      <td>40</td>\n",
       "      <td>40</td>\n",
       "      <td>0</td>\n",
       "    </tr>\n",
       "  </tbody>\n",
       "</table>\n",
       "</div>"
      ],
      "text/plain": [
       "          Date  Actual_avg_temp  Predicted_temp  Difference\n",
       "10  2019-01-21               43              46          -3\n",
       "9   2019-01-22               39              42          -3\n",
       "8   2019-01-23               44              40           4\n",
       "7   2019-01-24               37              46          -9\n",
       "6   2019-01-25               41              40           1\n",
       "5   2019-01-26               36              42          -6\n",
       "4   2019-01-27               35              34           1\n",
       "3   2019-01-28               42              34           8\n",
       "2   2019-01-29               35              42          -7\n",
       "1   2019-01-30               40              34           6\n",
       "0   2019-01-31               40              40           0"
      ]
     },
     "execution_count": 33,
     "metadata": {},
     "output_type": "execute_result"
    }
   ],
   "source": [
    "df.sort_values(by=['Date'], ascending=True)"
   ]
  },
  {
   "cell_type": "code",
   "execution_count": 34,
   "metadata": {},
   "outputs": [
    {
     "data": {
      "text/plain": [
       "'[{\"Date\":\"2019-01-31\",\"Actual_avg_temp\":40,\"Predicted_temp\":40,\"Difference\":0},{\"Date\":\"2019-01-30\",\"Actual_avg_temp\":40,\"Predicted_temp\":34,\"Difference\":6},{\"Date\":\"2019-01-29\",\"Actual_avg_temp\":35,\"Predicted_temp\":42,\"Difference\":-7},{\"Date\":\"2019-01-28\",\"Actual_avg_temp\":42,\"Predicted_temp\":34,\"Difference\":8},{\"Date\":\"2019-01-27\",\"Actual_avg_temp\":35,\"Predicted_temp\":34,\"Difference\":1},{\"Date\":\"2019-01-26\",\"Actual_avg_temp\":36,\"Predicted_temp\":42,\"Difference\":-6},{\"Date\":\"2019-01-25\",\"Actual_avg_temp\":41,\"Predicted_temp\":40,\"Difference\":1},{\"Date\":\"2019-01-24\",\"Actual_avg_temp\":37,\"Predicted_temp\":46,\"Difference\":-9},{\"Date\":\"2019-01-23\",\"Actual_avg_temp\":44,\"Predicted_temp\":40,\"Difference\":4},{\"Date\":\"2019-01-22\",\"Actual_avg_temp\":39,\"Predicted_temp\":42,\"Difference\":-3},{\"Date\":\"2019-01-21\",\"Actual_avg_temp\":43,\"Predicted_temp\":46,\"Difference\":-3}]'"
      ]
     },
     "execution_count": 34,
     "metadata": {},
     "output_type": "execute_result"
    }
   ],
   "source": [
    "df.to_json(orient='records')"
   ]
  },
  {
   "cell_type": "code",
   "execution_count": 7,
   "metadata": {},
   "outputs": [],
   "source": [
    "df.to_csv(city + '_ridge.csv')"
   ]
  },
  {
   "cell_type": "code",
   "execution_count": 35,
   "metadata": {},
   "outputs": [],
   "source": [
    "def plot_data(query_city):\n",
    "    \n",
    "    connex = sqlite3.connect(\"weather_predict.db\")  # Opens file if exists, else creates file\n",
    "    cur = connex.cursor()\n",
    "    \n",
    "    query = \"SELECT * FROM \" + query_city\n",
    "    \n",
    "    df = pd.read_sql(query, con=connex)\n",
    "    \n",
    "    df.sort_values(by=['Date'], ascending=True)\n",
    "    \n",
    "    df.to_csv(query_city + '_dtr.csv')\n",
    "    #return df.to_json(orient='records')\n",
    "    "
   ]
  },
  {
   "cell_type": "code",
   "execution_count": 42,
   "metadata": {},
   "outputs": [],
   "source": [
    "plot_data('Nice_prediction')"
   ]
  },
  {
   "cell_type": "code",
   "execution_count": null,
   "metadata": {},
   "outputs": [],
   "source": []
  }
 ],
 "metadata": {
  "kernelspec": {
   "display_name": "Python [conda env:PythonData]",
   "language": "python",
   "name": "conda-env-PythonData-py"
  },
  "language_info": {
   "codemirror_mode": {
    "name": "ipython",
    "version": 3
   },
   "file_extension": ".py",
   "mimetype": "text/x-python",
   "name": "python",
   "nbconvert_exporter": "python",
   "pygments_lexer": "ipython3",
   "version": "3.6.7"
  }
 },
 "nbformat": 4,
 "nbformat_minor": 2
}
