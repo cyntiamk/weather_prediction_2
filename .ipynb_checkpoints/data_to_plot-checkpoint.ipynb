{
 "cells": [
  {
   "cell_type": "code",
   "execution_count": 1,
   "metadata": {},
   "outputs": [],
   "source": [
    "import pandas as pd\n",
    "from pandas.plotting import scatter_matrix\n",
    "import matplotlib.pyplot as plt\n",
    "import sqlite3"
   ]
  },
  {
   "cell_type": "code",
   "execution_count": 2,
   "metadata": {},
   "outputs": [],
   "source": [
    "connex = sqlite3.connect(\"weather_predict.db\")  # Opens file if exists, else creates file\n",
    "cur = connex.cursor()"
   ]
  },
  {
   "cell_type": "code",
   "execution_count": 3,
   "metadata": {},
   "outputs": [],
   "source": [
    "query_city = 'Kyoto_prediction'\n",
    "query = \"SELECT * FROM \" + query_city"
   ]
  },
  {
   "cell_type": "code",
   "execution_count": 4,
   "metadata": {},
   "outputs": [],
   "source": [
    "df = pd.read_sql(query, con=connex)"
   ]
  },
  {
   "cell_type": "code",
   "execution_count": 5,
   "metadata": {},
   "outputs": [
    {
     "data": {
      "text/html": [
       "<div>\n",
       "<style scoped>\n",
       "    .dataframe tbody tr th:only-of-type {\n",
       "        vertical-align: middle;\n",
       "    }\n",
       "\n",
       "    .dataframe tbody tr th {\n",
       "        vertical-align: top;\n",
       "    }\n",
       "\n",
       "    .dataframe thead th {\n",
       "        text-align: right;\n",
       "    }\n",
       "</style>\n",
       "<table border=\"1\" class=\"dataframe\">\n",
       "  <thead>\n",
       "    <tr style=\"text-align: right;\">\n",
       "      <th></th>\n",
       "      <th>Date</th>\n",
       "      <th>Actual_avg_temp</th>\n",
       "      <th>Predicted_temp</th>\n",
       "      <th>Difference</th>\n",
       "    </tr>\n",
       "  </thead>\n",
       "  <tbody>\n",
       "    <tr>\n",
       "      <th>10</th>\n",
       "      <td>2019-01-21</td>\n",
       "      <td>43</td>\n",
       "      <td>42</td>\n",
       "      <td>1</td>\n",
       "    </tr>\n",
       "    <tr>\n",
       "      <th>9</th>\n",
       "      <td>2019-01-22</td>\n",
       "      <td>39</td>\n",
       "      <td>43</td>\n",
       "      <td>-4</td>\n",
       "    </tr>\n",
       "    <tr>\n",
       "      <th>8</th>\n",
       "      <td>2019-01-23</td>\n",
       "      <td>44</td>\n",
       "      <td>41</td>\n",
       "      <td>3</td>\n",
       "    </tr>\n",
       "    <tr>\n",
       "      <th>7</th>\n",
       "      <td>2019-01-24</td>\n",
       "      <td>37</td>\n",
       "      <td>44</td>\n",
       "      <td>-7</td>\n",
       "    </tr>\n",
       "    <tr>\n",
       "      <th>6</th>\n",
       "      <td>2019-01-25</td>\n",
       "      <td>41</td>\n",
       "      <td>39</td>\n",
       "      <td>2</td>\n",
       "    </tr>\n",
       "    <tr>\n",
       "      <th>5</th>\n",
       "      <td>2019-01-26</td>\n",
       "      <td>36</td>\n",
       "      <td>42</td>\n",
       "      <td>-6</td>\n",
       "    </tr>\n",
       "    <tr>\n",
       "      <th>4</th>\n",
       "      <td>2019-01-27</td>\n",
       "      <td>35</td>\n",
       "      <td>38</td>\n",
       "      <td>-3</td>\n",
       "    </tr>\n",
       "    <tr>\n",
       "      <th>3</th>\n",
       "      <td>2019-01-28</td>\n",
       "      <td>42</td>\n",
       "      <td>38</td>\n",
       "      <td>4</td>\n",
       "    </tr>\n",
       "    <tr>\n",
       "      <th>2</th>\n",
       "      <td>2019-01-29</td>\n",
       "      <td>35</td>\n",
       "      <td>41</td>\n",
       "      <td>-6</td>\n",
       "    </tr>\n",
       "    <tr>\n",
       "      <th>1</th>\n",
       "      <td>2019-01-30</td>\n",
       "      <td>40</td>\n",
       "      <td>37</td>\n",
       "      <td>3</td>\n",
       "    </tr>\n",
       "    <tr>\n",
       "      <th>0</th>\n",
       "      <td>2019-01-31</td>\n",
       "      <td>41</td>\n",
       "      <td>40</td>\n",
       "      <td>1</td>\n",
       "    </tr>\n",
       "  </tbody>\n",
       "</table>\n",
       "</div>"
      ],
      "text/plain": [
       "          Date  Actual_avg_temp  Predicted_temp  Difference\n",
       "10  2019-01-21               43              42           1\n",
       "9   2019-01-22               39              43          -4\n",
       "8   2019-01-23               44              41           3\n",
       "7   2019-01-24               37              44          -7\n",
       "6   2019-01-25               41              39           2\n",
       "5   2019-01-26               36              42          -6\n",
       "4   2019-01-27               35              38          -3\n",
       "3   2019-01-28               42              38           4\n",
       "2   2019-01-29               35              41          -6\n",
       "1   2019-01-30               40              37           3\n",
       "0   2019-01-31               41              40           1"
      ]
     },
     "execution_count": 5,
     "metadata": {},
     "output_type": "execute_result"
    }
   ],
   "source": [
    "df.sort_values(by=['Date'], ascending=True)"
   ]
  },
  {
   "cell_type": "code",
   "execution_count": 6,
   "metadata": {},
   "outputs": [
    {
     "data": {
      "text/plain": [
       "'[{\"Date\":\"2019-01-31\",\"Actual_avg_temp\":41,\"Predicted_temp\":40,\"Difference\":1},{\"Date\":\"2019-01-30\",\"Actual_avg_temp\":40,\"Predicted_temp\":37,\"Difference\":3},{\"Date\":\"2019-01-29\",\"Actual_avg_temp\":35,\"Predicted_temp\":41,\"Difference\":-6},{\"Date\":\"2019-01-28\",\"Actual_avg_temp\":42,\"Predicted_temp\":38,\"Difference\":4},{\"Date\":\"2019-01-27\",\"Actual_avg_temp\":35,\"Predicted_temp\":38,\"Difference\":-3},{\"Date\":\"2019-01-26\",\"Actual_avg_temp\":36,\"Predicted_temp\":42,\"Difference\":-6},{\"Date\":\"2019-01-25\",\"Actual_avg_temp\":41,\"Predicted_temp\":39,\"Difference\":2},{\"Date\":\"2019-01-24\",\"Actual_avg_temp\":37,\"Predicted_temp\":44,\"Difference\":-7},{\"Date\":\"2019-01-23\",\"Actual_avg_temp\":44,\"Predicted_temp\":41,\"Difference\":3},{\"Date\":\"2019-01-22\",\"Actual_avg_temp\":39,\"Predicted_temp\":43,\"Difference\":-4},{\"Date\":\"2019-01-21\",\"Actual_avg_temp\":43,\"Predicted_temp\":42,\"Difference\":1}]'"
      ]
     },
     "execution_count": 6,
     "metadata": {},
     "output_type": "execute_result"
    }
   ],
   "source": [
    "df.to_json(orient='records')"
   ]
  },
  {
   "cell_type": "code",
   "execution_count": 7,
   "metadata": {},
   "outputs": [],
   "source": [
    "df.to_csv(city + '_ridge.csv')"
   ]
  },
  {
   "cell_type": "code",
   "execution_count": 11,
   "metadata": {},
   "outputs": [],
   "source": [
    "def plot_data(query_city):\n",
    "    \n",
    "    connex = sqlite3.connect(\"weather_predict.db\")  # Opens file if exists, else creates file\n",
    "    cur = connex.cursor()\n",
    "    \n",
    "    query = \"SELECT * FROM \" + query_city\n",
    "    \n",
    "    df = pd.read_sql(query, con=connex)\n",
    "    \n",
    "    df.sort_values(by=['Date'], ascending=True)\n",
    "    \n",
    "    df.to_csv(query_city + '_ridge.csv')\n",
    "    #return df.to_json(orient='records')\n",
    "    "
   ]
  },
  {
   "cell_type": "code",
   "execution_count": 13,
   "metadata": {},
   "outputs": [
    {
     "ename": "NameError",
     "evalue": "name 'city' is not defined",
     "output_type": "error",
     "traceback": [
      "\u001b[0;31m---------------------------------------------------------------------------\u001b[0m",
      "\u001b[0;31mNameError\u001b[0m                                 Traceback (most recent call last)",
      "\u001b[0;32m<ipython-input-13-de148df16482>\u001b[0m in \u001b[0;36m<module>\u001b[0;34m()\u001b[0m\n\u001b[0;32m----> 1\u001b[0;31m \u001b[0mplot_data\u001b[0m\u001b[0;34m(\u001b[0m\u001b[0;34m'Kyoto_prediction'\u001b[0m\u001b[0;34m)\u001b[0m\u001b[0;34m\u001b[0m\u001b[0;34m\u001b[0m\u001b[0m\n\u001b[0m",
      "\u001b[0;32m<ipython-input-11-1103303eca56>\u001b[0m in \u001b[0;36mplot_data\u001b[0;34m(query_city)\u001b[0m\n\u001b[1;32m     10\u001b[0m     \u001b[0mdf\u001b[0m\u001b[0;34m.\u001b[0m\u001b[0msort_values\u001b[0m\u001b[0;34m(\u001b[0m\u001b[0mby\u001b[0m\u001b[0;34m=\u001b[0m\u001b[0;34m[\u001b[0m\u001b[0;34m'Date'\u001b[0m\u001b[0;34m]\u001b[0m\u001b[0;34m,\u001b[0m \u001b[0mascending\u001b[0m\u001b[0;34m=\u001b[0m\u001b[0;32mTrue\u001b[0m\u001b[0;34m)\u001b[0m\u001b[0;34m\u001b[0m\u001b[0;34m\u001b[0m\u001b[0m\n\u001b[1;32m     11\u001b[0m \u001b[0;34m\u001b[0m\u001b[0m\n\u001b[0;32m---> 12\u001b[0;31m     \u001b[0mdf\u001b[0m\u001b[0;34m.\u001b[0m\u001b[0mto_csv\u001b[0m\u001b[0;34m(\u001b[0m\u001b[0mcity\u001b[0m \u001b[0;34m+\u001b[0m \u001b[0;34m'_ridge.csv'\u001b[0m\u001b[0;34m)\u001b[0m\u001b[0;34m\u001b[0m\u001b[0;34m\u001b[0m\u001b[0m\n\u001b[0m\u001b[1;32m     13\u001b[0m     \u001b[0;31m#return df.to_json(orient='records')\u001b[0m\u001b[0;34m\u001b[0m\u001b[0;34m\u001b[0m\u001b[0;34m\u001b[0m\u001b[0m\n\u001b[1;32m     14\u001b[0m \u001b[0;34m\u001b[0m\u001b[0m\n",
      "\u001b[0;31mNameError\u001b[0m: name 'city' is not defined"
     ]
    }
   ],
   "source": [
    "plot_data('Kyoto_prediction')"
   ]
  },
  {
   "cell_type": "code",
   "execution_count": null,
   "metadata": {},
   "outputs": [],
   "source": []
  }
 ],
 "metadata": {
  "kernelspec": {
   "display_name": "Python [conda env:PythonData]",
   "language": "python",
   "name": "conda-env-PythonData-py"
  },
  "language_info": {
   "codemirror_mode": {
    "name": "ipython",
    "version": 3
   },
   "file_extension": ".py",
   "mimetype": "text/x-python",
   "name": "python",
   "nbconvert_exporter": "python",
   "pygments_lexer": "ipython3",
   "version": "3.6.7"
  }
 },
 "nbformat": 4,
 "nbformat_minor": 2
}
