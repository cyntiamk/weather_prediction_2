{
 "cells": [
  {
   "cell_type": "code",
   "execution_count": 1,
   "metadata": {},
   "outputs": [],
   "source": [
    "import pandas as pd\n",
    "import csv\n",
    "import os\n",
    "import sqlite3"
   ]
  },
  {
   "cell_type": "code",
   "execution_count": 2,
   "metadata": {
    "scrolled": true
   },
   "outputs": [],
   "source": [
    "connex = sqlite3.connect(\"weather_predict.db\")  # Opens file if exists, else creates file\n",
    "cur = connex.cursor()"
   ]
  },
  {
   "cell_type": "code",
   "execution_count": 3,
   "metadata": {},
   "outputs": [],
   "source": [
    "city1 = 'Irvine_recent_features'\n",
    "query1 = \"SELECT * FROM \" + city1"
   ]
  },
  {
   "cell_type": "code",
   "execution_count": 4,
   "metadata": {
    "scrolled": true
   },
   "outputs": [
    {
     "data": {
      "text/html": [
       "<div>\n",
       "<style scoped>\n",
       "    .dataframe tbody tr th:only-of-type {\n",
       "        vertical-align: middle;\n",
       "    }\n",
       "\n",
       "    .dataframe tbody tr th {\n",
       "        vertical-align: top;\n",
       "    }\n",
       "\n",
       "    .dataframe thead th {\n",
       "        text-align: right;\n",
       "    }\n",
       "</style>\n",
       "<table border=\"1\" class=\"dataframe\">\n",
       "  <thead>\n",
       "    <tr style=\"text-align: right;\">\n",
       "      <th></th>\n",
       "      <th>Date</th>\n",
       "      <th>Avg_temp</th>\n",
       "      <th>Avg_dwp</th>\n",
       "      <th>Temp_max</th>\n",
       "      <th>Max_dwp</th>\n",
       "      <th>Temp_min</th>\n",
       "      <th>Min_dwp</th>\n",
       "      <th>Avg_temp_1</th>\n",
       "      <th>Avg_temp_2</th>\n",
       "      <th>Avg_temp_3</th>\n",
       "      <th>...</th>\n",
       "      <th>Temp_max_3</th>\n",
       "      <th>Max_dwp_1</th>\n",
       "      <th>Max_dwp_2</th>\n",
       "      <th>Max_dwp_3</th>\n",
       "      <th>Temp_min_1</th>\n",
       "      <th>Temp_min_2</th>\n",
       "      <th>Temp_min_3</th>\n",
       "      <th>Min_dwp_1</th>\n",
       "      <th>Min_dwp_2</th>\n",
       "      <th>Min_dwp_3</th>\n",
       "    </tr>\n",
       "  </thead>\n",
       "  <tbody>\n",
       "    <tr>\n",
       "      <th>0</th>\n",
       "      <td>2019-01-21</td>\n",
       "      <td>-0.968889</td>\n",
       "      <td>-3.376296</td>\n",
       "      <td>6</td>\n",
       "      <td>3.4</td>\n",
       "      <td>-7</td>\n",
       "      <td>-8.6</td>\n",
       "      <td>-1.617083</td>\n",
       "      <td>-0.294800</td>\n",
       "      <td>-0.438000</td>\n",
       "      <td>...</td>\n",
       "      <td>1.0</td>\n",
       "      <td>-1.0</td>\n",
       "      <td>-0.4</td>\n",
       "      <td>0.0</td>\n",
       "      <td>-6.0</td>\n",
       "      <td>-3.0</td>\n",
       "      <td>-2.0</td>\n",
       "      <td>-9.2</td>\n",
       "      <td>-6.2</td>\n",
       "      <td>-3.6</td>\n",
       "    </tr>\n",
       "    <tr>\n",
       "      <th>1</th>\n",
       "      <td>2019-01-22</td>\n",
       "      <td>-0.697083</td>\n",
       "      <td>-2.613750</td>\n",
       "      <td>1</td>\n",
       "      <td>0.2</td>\n",
       "      <td>-2</td>\n",
       "      <td>-6.2</td>\n",
       "      <td>-0.968889</td>\n",
       "      <td>-1.617083</td>\n",
       "      <td>-0.294800</td>\n",
       "      <td>...</td>\n",
       "      <td>3.0</td>\n",
       "      <td>3.4</td>\n",
       "      <td>-1.0</td>\n",
       "      <td>-0.4</td>\n",
       "      <td>-7.0</td>\n",
       "      <td>-6.0</td>\n",
       "      <td>-3.0</td>\n",
       "      <td>-8.6</td>\n",
       "      <td>-9.2</td>\n",
       "      <td>-6.2</td>\n",
       "    </tr>\n",
       "    <tr>\n",
       "      <th>2</th>\n",
       "      <td>2019-01-23</td>\n",
       "      <td>-0.480435</td>\n",
       "      <td>-2.080435</td>\n",
       "      <td>0</td>\n",
       "      <td>0.0</td>\n",
       "      <td>-2</td>\n",
       "      <td>-7.0</td>\n",
       "      <td>-0.697083</td>\n",
       "      <td>-0.968889</td>\n",
       "      <td>-1.617083</td>\n",
       "      <td>...</td>\n",
       "      <td>3.0</td>\n",
       "      <td>0.2</td>\n",
       "      <td>3.4</td>\n",
       "      <td>-1.0</td>\n",
       "      <td>-2.0</td>\n",
       "      <td>-7.0</td>\n",
       "      <td>-6.0</td>\n",
       "      <td>-6.2</td>\n",
       "      <td>-8.6</td>\n",
       "      <td>-9.2</td>\n",
       "    </tr>\n",
       "    <tr>\n",
       "      <th>3</th>\n",
       "      <td>2019-01-24</td>\n",
       "      <td>-0.867917</td>\n",
       "      <td>-3.617917</td>\n",
       "      <td>1</td>\n",
       "      <td>-1.6</td>\n",
       "      <td>-3</td>\n",
       "      <td>-6.0</td>\n",
       "      <td>-0.480435</td>\n",
       "      <td>-0.697083</td>\n",
       "      <td>-0.968889</td>\n",
       "      <td>...</td>\n",
       "      <td>6.0</td>\n",
       "      <td>0.0</td>\n",
       "      <td>0.2</td>\n",
       "      <td>3.4</td>\n",
       "      <td>-2.0</td>\n",
       "      <td>-2.0</td>\n",
       "      <td>-7.0</td>\n",
       "      <td>-7.0</td>\n",
       "      <td>-6.2</td>\n",
       "      <td>-8.6</td>\n",
       "    </tr>\n",
       "    <tr>\n",
       "      <th>4</th>\n",
       "      <td>2019-01-25</td>\n",
       "      <td>1.952500</td>\n",
       "      <td>1.427500</td>\n",
       "      <td>9</td>\n",
       "      <td>8.0</td>\n",
       "      <td>-3</td>\n",
       "      <td>-3.6</td>\n",
       "      <td>-0.867917</td>\n",
       "      <td>-0.480435</td>\n",
       "      <td>-0.697083</td>\n",
       "      <td>...</td>\n",
       "      <td>1.0</td>\n",
       "      <td>-1.6</td>\n",
       "      <td>0.0</td>\n",
       "      <td>0.2</td>\n",
       "      <td>-3.0</td>\n",
       "      <td>-2.0</td>\n",
       "      <td>-2.0</td>\n",
       "      <td>-6.0</td>\n",
       "      <td>-7.0</td>\n",
       "      <td>-6.2</td>\n",
       "    </tr>\n",
       "  </tbody>\n",
       "</table>\n",
       "<p>5 rows × 25 columns</p>\n",
       "</div>"
      ],
      "text/plain": [
       "         Date  Avg_temp   Avg_dwp  Temp_max  Max_dwp  Temp_min  Min_dwp  \\\n",
       "0  2019-01-21 -0.968889 -3.376296         6      3.4        -7     -8.6   \n",
       "1  2019-01-22 -0.697083 -2.613750         1      0.2        -2     -6.2   \n",
       "2  2019-01-23 -0.480435 -2.080435         0      0.0        -2     -7.0   \n",
       "3  2019-01-24 -0.867917 -3.617917         1     -1.6        -3     -6.0   \n",
       "4  2019-01-25  1.952500  1.427500         9      8.0        -3     -3.6   \n",
       "\n",
       "   Avg_temp_1  Avg_temp_2  Avg_temp_3    ...      Temp_max_3  Max_dwp_1  \\\n",
       "0   -1.617083   -0.294800   -0.438000    ...             1.0       -1.0   \n",
       "1   -0.968889   -1.617083   -0.294800    ...             3.0        3.4   \n",
       "2   -0.697083   -0.968889   -1.617083    ...             3.0        0.2   \n",
       "3   -0.480435   -0.697083   -0.968889    ...             6.0        0.0   \n",
       "4   -0.867917   -0.480435   -0.697083    ...             1.0       -1.6   \n",
       "\n",
       "   Max_dwp_2  Max_dwp_3  Temp_min_1  Temp_min_2  Temp_min_3  Min_dwp_1  \\\n",
       "0       -0.4        0.0        -6.0        -3.0        -2.0       -9.2   \n",
       "1       -1.0       -0.4        -7.0        -6.0        -3.0       -8.6   \n",
       "2        3.4       -1.0        -2.0        -7.0        -6.0       -6.2   \n",
       "3        0.2        3.4        -2.0        -2.0        -7.0       -7.0   \n",
       "4        0.0        0.2        -3.0        -2.0        -2.0       -6.0   \n",
       "\n",
       "   Min_dwp_2  Min_dwp_3  \n",
       "0       -6.2       -3.6  \n",
       "1       -9.2       -6.2  \n",
       "2       -8.6       -9.2  \n",
       "3       -6.2       -8.6  \n",
       "4       -7.0       -6.2  \n",
       "\n",
       "[5 rows x 25 columns]"
      ]
     },
     "execution_count": 4,
     "metadata": {},
     "output_type": "execute_result"
    }
   ],
   "source": [
    "df = pd.read_sql(query1, con=connex)\n",
    "#df.sort_values(\"Date\", ascending=False)\n",
    "df.head()"
   ]
  },
  {
   "cell_type": "code",
   "execution_count": 5,
   "metadata": {},
   "outputs": [],
   "source": [
    "predictors = ['Avg_temp_1', 'Avg_temp_2', 'Avg_temp_3', \n",
    "              'Temp_max_1', 'Temp_max_2',\n",
    "              'Temp_min_1', 'Temp_min_3', \n",
    "              'Avg_dwp_2', 'Avg_dwp_3',\n",
    "              'Min_dwp_1','Min_dwp_3']\n",
    "X = df[predictors]\n",
    "\n",
    "y = df['Avg_temp']"
   ]
  },
  {
   "cell_type": "code",
   "execution_count": 6,
   "metadata": {},
   "outputs": [],
   "source": [
    "from sklearn.externals import joblib\n",
    "from sklearn.preprocessing import StandardScaler\n",
    "scaler = joblib.load(open('final_scaler.save','rb'))\n"
   ]
  },
  {
   "cell_type": "code",
   "execution_count": 7,
   "metadata": {},
   "outputs": [],
   "source": [
    "X_scaled = scaler.transform(X)\n"
   ]
  },
  {
   "cell_type": "code",
   "execution_count": 8,
   "metadata": {},
   "outputs": [],
   "source": [
    "import pickle\n",
    "from sklearn.metrics import r2_score, mean_squared_error\n"
   ]
  },
  {
   "cell_type": "code",
   "execution_count": 9,
   "metadata": {},
   "outputs": [],
   "source": [
    "from sklearn.linear_model import Ridge\n",
    "ridge = pickle.load(open('ridge_final_model.pkl', 'rb'))"
   ]
  },
  {
   "cell_type": "code",
   "execution_count": 10,
   "metadata": {},
   "outputs": [],
   "source": [
    "y_ridge_prediction = ridge.predict(X_scaled)"
   ]
  },
  {
   "cell_type": "code",
   "execution_count": 11,
   "metadata": {},
   "outputs": [
    {
     "data": {
      "text/plain": [
       "6.513295941976531"
      ]
     },
     "execution_count": 11,
     "metadata": {},
     "output_type": "execute_result"
    }
   ],
   "source": [
    "mse = mean_squared_error(y, y_ridge_prediction)\n",
    "mse"
   ]
  },
  {
   "cell_type": "code",
   "execution_count": 12,
   "metadata": {},
   "outputs": [
    {
     "name": "stdout",
     "output_type": "stream",
     "text": [
      "The R^2 score for test data is: 0.20043319003038007\n"
     ]
    }
   ],
   "source": [
    "r2_ridge = r2_score(y,y_ridge_prediction)\n",
    "\n",
    "print(\"The R^2 score for test data is:\", r2_ridge)"
   ]
  },
  {
   "cell_type": "code",
   "execution_count": 13,
   "metadata": {},
   "outputs": [],
   "source": [
    "from sklearn.linear_model import LinearRegression\n",
    "linear = pickle.load(open('linear_final_model.pkl', 'rb'))"
   ]
  },
  {
   "cell_type": "code",
   "execution_count": 14,
   "metadata": {},
   "outputs": [],
   "source": [
    "y_linear_prediction = linear.predict(X_scaled)"
   ]
  },
  {
   "cell_type": "code",
   "execution_count": 15,
   "metadata": {},
   "outputs": [
    {
     "data": {
      "text/plain": [
       "5.199306858699332"
      ]
     },
     "execution_count": 15,
     "metadata": {},
     "output_type": "execute_result"
    }
   ],
   "source": [
    " mean_squared_error(y,y_linear_prediction)"
   ]
  },
  {
   "cell_type": "code",
   "execution_count": 16,
   "metadata": {},
   "outputs": [
    {
     "name": "stdout",
     "output_type": "stream",
     "text": [
      "The R^2 score for test data is: 0.36173740052692205\n"
     ]
    }
   ],
   "source": [
    "r2_linear = r2_score(y, y_linear_prediction)\n",
    "\n",
    "print(\"The R^2 score for test data is:\", r2_linear)"
   ]
  },
  {
   "cell_type": "code",
   "execution_count": 17,
   "metadata": {},
   "outputs": [],
   "source": [
    "from sklearn.tree import DecisionTreeRegressor\n",
    "dtm = pickle.load(open('dtm_final_model.pkl', 'rb'))"
   ]
  },
  {
   "cell_type": "code",
   "execution_count": 18,
   "metadata": {},
   "outputs": [],
   "source": [
    "y_dtm_prediction = dtm.predict(X_scaled)"
   ]
  },
  {
   "cell_type": "code",
   "execution_count": 19,
   "metadata": {},
   "outputs": [
    {
     "data": {
      "text/plain": [
       "5.892398285404209"
      ]
     },
     "execution_count": 19,
     "metadata": {},
     "output_type": "execute_result"
    }
   ],
   "source": [
    " mean_squared_error(y,y_dtm_prediction)"
   ]
  },
  {
   "cell_type": "code",
   "execution_count": 20,
   "metadata": {},
   "outputs": [
    {
     "name": "stdout",
     "output_type": "stream",
     "text": [
      "The R^2 score for test data is: 0.2766540715941451\n"
     ]
    }
   ],
   "source": [
    "r2_dtm = r2_score(y, y_dtm_prediction)\n",
    "\n",
    "print(\"The R^2 score for test data is:\", r2_dtm)"
   ]
  },
  {
   "cell_type": "code",
   "execution_count": null,
   "metadata": {},
   "outputs": [],
   "source": []
  }
 ],
 "metadata": {
  "kernelspec": {
   "display_name": "Python [conda env:PythonData]",
   "language": "python",
   "name": "conda-env-PythonData-py"
  },
  "language_info": {
   "codemirror_mode": {
    "name": "ipython",
    "version": 3
   },
   "file_extension": ".py",
   "mimetype": "text/x-python",
   "name": "python",
   "nbconvert_exporter": "python",
   "pygments_lexer": "ipython3",
   "version": "3.6.7"
  }
 },
 "nbformat": 4,
 "nbformat_minor": 2
}
