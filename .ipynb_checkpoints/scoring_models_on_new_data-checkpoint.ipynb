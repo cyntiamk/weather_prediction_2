{
 "cells": [
  {
   "cell_type": "code",
   "execution_count": 3,
   "metadata": {},
   "outputs": [],
   "source": [
    "import pandas as pd\n",
    "import csv\n",
    "import os\n",
    "import sqlite3"
   ]
  },
  {
   "cell_type": "code",
   "execution_count": 4,
   "metadata": {
    "scrolled": true
   },
   "outputs": [],
   "source": [
    "connex = sqlite3.connect(\"weather_predict.db\")  # Opens file if exists, else creates file\n",
    "cur = connex.cursor()"
   ]
  },
  {
   "cell_type": "code",
   "execution_count": 44,
   "metadata": {},
   "outputs": [],
   "source": [
    "city1 = 'Lihue_recent_features'\n",
    "query1 = \"SELECT * FROM \" + city1"
   ]
  },
  {
   "cell_type": "code",
   "execution_count": 45,
   "metadata": {
    "scrolled": true
   },
   "outputs": [
    {
     "data": {
      "text/html": [
       "<div>\n",
       "<style scoped>\n",
       "    .dataframe tbody tr th:only-of-type {\n",
       "        vertical-align: middle;\n",
       "    }\n",
       "\n",
       "    .dataframe tbody tr th {\n",
       "        vertical-align: top;\n",
       "    }\n",
       "\n",
       "    .dataframe thead th {\n",
       "        text-align: right;\n",
       "    }\n",
       "</style>\n",
       "<table border=\"1\" class=\"dataframe\">\n",
       "  <thead>\n",
       "    <tr style=\"text-align: right;\">\n",
       "      <th></th>\n",
       "      <th>Date</th>\n",
       "      <th>Avg_temp</th>\n",
       "      <th>Avg_dwp</th>\n",
       "      <th>Temp_max</th>\n",
       "      <th>Max_dwp</th>\n",
       "      <th>Temp_min</th>\n",
       "      <th>Min_dwp</th>\n",
       "      <th>Avg_temp_1</th>\n",
       "      <th>Avg_temp_2</th>\n",
       "      <th>Avg_temp_3</th>\n",
       "      <th>...</th>\n",
       "      <th>Temp_max_3</th>\n",
       "      <th>Max_dwp_1</th>\n",
       "      <th>Max_dwp_2</th>\n",
       "      <th>Max_dwp_3</th>\n",
       "      <th>Temp_min_1</th>\n",
       "      <th>Temp_min_2</th>\n",
       "      <th>Temp_min_3</th>\n",
       "      <th>Min_dwp_1</th>\n",
       "      <th>Min_dwp_2</th>\n",
       "      <th>Min_dwp_3</th>\n",
       "    </tr>\n",
       "  </thead>\n",
       "  <tbody>\n",
       "    <tr>\n",
       "      <th>0</th>\n",
       "      <td>2019-01-21</td>\n",
       "      <td>24.683846</td>\n",
       "      <td>18.891538</td>\n",
       "      <td>28.3</td>\n",
       "      <td>21.9</td>\n",
       "      <td>20.6</td>\n",
       "      <td>16.8</td>\n",
       "      <td>23.208333</td>\n",
       "      <td>22.427917</td>\n",
       "      <td>24.563333</td>\n",
       "      <td>...</td>\n",
       "      <td>26.7</td>\n",
       "      <td>21.8</td>\n",
       "      <td>18.9</td>\n",
       "      <td>18.3</td>\n",
       "      <td>18.9</td>\n",
       "      <td>17.2</td>\n",
       "      <td>21.7</td>\n",
       "      <td>15.0</td>\n",
       "      <td>11.2</td>\n",
       "      <td>14.7</td>\n",
       "    </tr>\n",
       "    <tr>\n",
       "      <th>1</th>\n",
       "      <td>2019-01-22</td>\n",
       "      <td>22.812083</td>\n",
       "      <td>18.103750</td>\n",
       "      <td>27.8</td>\n",
       "      <td>20.4</td>\n",
       "      <td>18.3</td>\n",
       "      <td>15.5</td>\n",
       "      <td>24.683846</td>\n",
       "      <td>23.208333</td>\n",
       "      <td>22.427917</td>\n",
       "      <td>...</td>\n",
       "      <td>26.1</td>\n",
       "      <td>21.9</td>\n",
       "      <td>21.8</td>\n",
       "      <td>18.9</td>\n",
       "      <td>20.6</td>\n",
       "      <td>18.9</td>\n",
       "      <td>17.2</td>\n",
       "      <td>16.8</td>\n",
       "      <td>15.0</td>\n",
       "      <td>11.2</td>\n",
       "    </tr>\n",
       "    <tr>\n",
       "      <th>2</th>\n",
       "      <td>2019-01-23</td>\n",
       "      <td>22.397500</td>\n",
       "      <td>17.239167</td>\n",
       "      <td>26.7</td>\n",
       "      <td>20.3</td>\n",
       "      <td>18.3</td>\n",
       "      <td>15.0</td>\n",
       "      <td>22.812083</td>\n",
       "      <td>24.683846</td>\n",
       "      <td>23.208333</td>\n",
       "      <td>...</td>\n",
       "      <td>28.3</td>\n",
       "      <td>20.4</td>\n",
       "      <td>21.9</td>\n",
       "      <td>21.8</td>\n",
       "      <td>18.3</td>\n",
       "      <td>20.6</td>\n",
       "      <td>18.9</td>\n",
       "      <td>15.5</td>\n",
       "      <td>16.8</td>\n",
       "      <td>15.0</td>\n",
       "    </tr>\n",
       "    <tr>\n",
       "      <th>3</th>\n",
       "      <td>2019-01-24</td>\n",
       "      <td>22.173750</td>\n",
       "      <td>17.132083</td>\n",
       "      <td>26.7</td>\n",
       "      <td>19.9</td>\n",
       "      <td>17.8</td>\n",
       "      <td>12.7</td>\n",
       "      <td>22.397500</td>\n",
       "      <td>22.812083</td>\n",
       "      <td>24.683846</td>\n",
       "      <td>...</td>\n",
       "      <td>28.3</td>\n",
       "      <td>20.3</td>\n",
       "      <td>20.4</td>\n",
       "      <td>21.9</td>\n",
       "      <td>18.3</td>\n",
       "      <td>18.3</td>\n",
       "      <td>20.6</td>\n",
       "      <td>15.0</td>\n",
       "      <td>15.5</td>\n",
       "      <td>16.8</td>\n",
       "    </tr>\n",
       "    <tr>\n",
       "      <th>4</th>\n",
       "      <td>2019-01-25</td>\n",
       "      <td>21.253913</td>\n",
       "      <td>17.071304</td>\n",
       "      <td>26.7</td>\n",
       "      <td>23.6</td>\n",
       "      <td>16.1</td>\n",
       "      <td>12.1</td>\n",
       "      <td>22.173750</td>\n",
       "      <td>22.397500</td>\n",
       "      <td>22.812083</td>\n",
       "      <td>...</td>\n",
       "      <td>27.8</td>\n",
       "      <td>19.9</td>\n",
       "      <td>20.3</td>\n",
       "      <td>20.4</td>\n",
       "      <td>17.8</td>\n",
       "      <td>18.3</td>\n",
       "      <td>18.3</td>\n",
       "      <td>12.7</td>\n",
       "      <td>15.0</td>\n",
       "      <td>15.5</td>\n",
       "    </tr>\n",
       "  </tbody>\n",
       "</table>\n",
       "<p>5 rows × 25 columns</p>\n",
       "</div>"
      ],
      "text/plain": [
       "         Date   Avg_temp    Avg_dwp  Temp_max  Max_dwp  Temp_min  Min_dwp  \\\n",
       "0  2019-01-21  24.683846  18.891538      28.3     21.9      20.6     16.8   \n",
       "1  2019-01-22  22.812083  18.103750      27.8     20.4      18.3     15.5   \n",
       "2  2019-01-23  22.397500  17.239167      26.7     20.3      18.3     15.0   \n",
       "3  2019-01-24  22.173750  17.132083      26.7     19.9      17.8     12.7   \n",
       "4  2019-01-25  21.253913  17.071304      26.7     23.6      16.1     12.1   \n",
       "\n",
       "   Avg_temp_1  Avg_temp_2  Avg_temp_3    ...      Temp_max_3  Max_dwp_1  \\\n",
       "0   23.208333   22.427917   24.563333    ...            26.7       21.8   \n",
       "1   24.683846   23.208333   22.427917    ...            26.1       21.9   \n",
       "2   22.812083   24.683846   23.208333    ...            28.3       20.4   \n",
       "3   22.397500   22.812083   24.683846    ...            28.3       20.3   \n",
       "4   22.173750   22.397500   22.812083    ...            27.8       19.9   \n",
       "\n",
       "   Max_dwp_2  Max_dwp_3  Temp_min_1  Temp_min_2  Temp_min_3  Min_dwp_1  \\\n",
       "0       18.9       18.3        18.9        17.2        21.7       15.0   \n",
       "1       21.8       18.9        20.6        18.9        17.2       16.8   \n",
       "2       21.9       21.8        18.3        20.6        18.9       15.5   \n",
       "3       20.4       21.9        18.3        18.3        20.6       15.0   \n",
       "4       20.3       20.4        17.8        18.3        18.3       12.7   \n",
       "\n",
       "   Min_dwp_2  Min_dwp_3  \n",
       "0       11.2       14.7  \n",
       "1       15.0       11.2  \n",
       "2       16.8       15.0  \n",
       "3       15.5       16.8  \n",
       "4       15.0       15.5  \n",
       "\n",
       "[5 rows x 25 columns]"
      ]
     },
     "execution_count": 45,
     "metadata": {},
     "output_type": "execute_result"
    }
   ],
   "source": [
    "df = pd.read_sql(query1, con=connex)\n",
    "#df.sort_values(\"Date\", ascending=False)\n",
    "df.head()"
   ]
  },
  {
   "cell_type": "code",
   "execution_count": 46,
   "metadata": {},
   "outputs": [],
   "source": [
    "predictors = ['Avg_temp_1', 'Avg_temp_2', 'Avg_temp_3', \n",
    "              'Temp_max_1', 'Temp_max_2',\n",
    "              'Temp_min_1', 'Temp_min_3', \n",
    "              'Avg_dwp_2', 'Avg_dwp_3',\n",
    "              'Min_dwp_1','Min_dwp_3']\n",
    "X = df[predictors]\n",
    "\n",
    "y = df['Avg_temp']"
   ]
  },
  {
   "cell_type": "code",
   "execution_count": 47,
   "metadata": {},
   "outputs": [],
   "source": [
    "from sklearn.externals import joblib\n",
    "from sklearn.preprocessing import StandardScaler\n",
    "scaler = joblib.load(open('final_scaler.save','rb'))\n"
   ]
  },
  {
   "cell_type": "code",
   "execution_count": 48,
   "metadata": {},
   "outputs": [],
   "source": [
    "X_scaled = scaler.transform(X)\n"
   ]
  },
  {
   "cell_type": "code",
   "execution_count": 49,
   "metadata": {},
   "outputs": [],
   "source": [
    "import pickle\n",
    "from sklearn.metrics import r2_score, mean_squared_error\n"
   ]
  },
  {
   "cell_type": "code",
   "execution_count": 50,
   "metadata": {},
   "outputs": [],
   "source": [
    "from sklearn.linear_model import Ridge\n",
    "ridge = pickle.load(open('ridge_final_model.pkl', 'rb'))"
   ]
  },
  {
   "cell_type": "code",
   "execution_count": 51,
   "metadata": {},
   "outputs": [],
   "source": [
    "y_ridge_prediction = ridge.predict(X_scaled)"
   ]
  },
  {
   "cell_type": "code",
   "execution_count": 52,
   "metadata": {},
   "outputs": [
    {
     "data": {
      "text/plain": [
       "0.9740409010890604"
      ]
     },
     "execution_count": 52,
     "metadata": {},
     "output_type": "execute_result"
    }
   ],
   "source": [
    "mse = mean_squared_error(y, y_ridge_prediction)\n",
    "mse"
   ]
  },
  {
   "cell_type": "code",
   "execution_count": 53,
   "metadata": {},
   "outputs": [
    {
     "name": "stdout",
     "output_type": "stream",
     "text": [
      "The R^2 score for test data is: 0.24759727805385046\n"
     ]
    }
   ],
   "source": [
    "r2_ridge = r2_score(y,y_ridge_prediction)\n",
    "\n",
    "print(\"The R^2 score for test data is:\", r2_ridge)"
   ]
  },
  {
   "cell_type": "code",
   "execution_count": 40,
   "metadata": {},
   "outputs": [],
   "source": [
    "from sklearn.linear_model import LinearRegression\n",
    "linear = pickle.load(open('linear_final_model.pkl', 'rb'))"
   ]
  },
  {
   "cell_type": "code",
   "execution_count": 41,
   "metadata": {},
   "outputs": [],
   "source": [
    "y_linear_prediction = linear.predict(X_scaled)"
   ]
  },
  {
   "cell_type": "code",
   "execution_count": 42,
   "metadata": {},
   "outputs": [
    {
     "data": {
      "text/plain": [
       "3.1666025811601184"
      ]
     },
     "execution_count": 42,
     "metadata": {},
     "output_type": "execute_result"
    }
   ],
   "source": [
    " mean_squared_error(y,y_linear_prediction)"
   ]
  },
  {
   "cell_type": "code",
   "execution_count": 43,
   "metadata": {},
   "outputs": [
    {
     "data": {
      "text/plain": [
       "0.43863059368186985"
      ]
     },
     "execution_count": 43,
     "metadata": {},
     "output_type": "execute_result"
    }
   ],
   "source": [
    "from sklearn.metrics import explained_variance_score\n",
    "explained_variance_score(y,y_linear_prediction)"
   ]
  },
  {
   "cell_type": "code",
   "execution_count": 29,
   "metadata": {},
   "outputs": [
    {
     "name": "stdout",
     "output_type": "stream",
     "text": [
      "The R^2 score for test data is: -0.22341037889195792\n"
     ]
    }
   ],
   "source": [
    "r2_linear = r2_score(y, y_linear_prediction)\n",
    "\n",
    "print(\"The R^2 score for test data is:\", r2_linear)"
   ]
  },
  {
   "cell_type": "code",
   "execution_count": 18,
   "metadata": {},
   "outputs": [],
   "source": [
    "from sklearn.tree import DecisionTreeRegressor\n",
    "dtm = pickle.load(open('dtm_final_model.pkl', 'rb'))"
   ]
  },
  {
   "cell_type": "code",
   "execution_count": 19,
   "metadata": {},
   "outputs": [],
   "source": [
    "y_dtm_prediction = dtm.predict(X_scaled)"
   ]
  },
  {
   "cell_type": "code",
   "execution_count": 20,
   "metadata": {},
   "outputs": [
    {
     "data": {
      "text/plain": [
       "0.3879464416268033"
      ]
     },
     "execution_count": 20,
     "metadata": {},
     "output_type": "execute_result"
    }
   ],
   "source": [
    " mean_squared_error(y,y_dtm_prediction)"
   ]
  },
  {
   "cell_type": "code",
   "execution_count": 21,
   "metadata": {},
   "outputs": [
    {
     "name": "stdout",
     "output_type": "stream",
     "text": [
      "The R^2 score for test data is: -1.8313977721522856\n"
     ]
    }
   ],
   "source": [
    "r2_dtm = r2_score(y, y_dtm_prediction)\n",
    "\n",
    "print(\"The R^2 score for test data is:\", r2_dtm)"
   ]
  },
  {
   "cell_type": "code",
   "execution_count": 22,
   "metadata": {},
   "outputs": [
    {
     "name": "stderr",
     "output_type": "stream",
     "text": [
      "/anaconda3/envs/PythonData/lib/python3.6/site-packages/sklearn/base.py:251: UserWarning: Trying to unpickle estimator DecisionTreeRegressor from version 0.19.1 when using version 0.20.2. This might lead to breaking code or invalid results. Use at your own risk.\n",
      "  UserWarning)\n",
      "/anaconda3/envs/PythonData/lib/python3.6/site-packages/sklearn/base.py:251: UserWarning: Trying to unpickle estimator RandomForestRegressor from version 0.19.1 when using version 0.20.2. This might lead to breaking code or invalid results. Use at your own risk.\n",
      "  UserWarning)\n"
     ]
    }
   ],
   "source": [
    "from sklearn.ensemble import RandomForestRegressor\n",
    "rfr = pickle.load(open('rfr_final_model.pkl', 'rb'))"
   ]
  },
  {
   "cell_type": "code",
   "execution_count": 23,
   "metadata": {},
   "outputs": [
    {
     "name": "stderr",
     "output_type": "stream",
     "text": [
      "/anaconda3/envs/PythonData/lib/python3.6/site-packages/sklearn/base.py:251: UserWarning: Trying to unpickle estimator StandardScaler from version 0.19.1 when using version 0.20.2. This might lead to breaking code or invalid results. Use at your own risk.\n",
      "  UserWarning)\n"
     ]
    }
   ],
   "source": [
    "from sklearn.externals import joblib\n",
    "final_scaler = joblib.load(open('final_scaler.save','rb'))\n",
    "X_final_scale = final_scaler.transform(X)\n"
   ]
  },
  {
   "cell_type": "code",
   "execution_count": 24,
   "metadata": {},
   "outputs": [
    {
     "data": {
      "text/plain": [
       "array([35., 35., 35., 35., 35., 35., 35., 35., 34.])"
      ]
     },
     "execution_count": 24,
     "metadata": {},
     "output_type": "execute_result"
    }
   ],
   "source": [
    "y_rfr_prediction = rfr.predict(X_final_scale)\n",
    "def c_to_f(c):\n",
    "    return ((c*9/5) + 32).round()\n",
    "c_to_f(y_rfr_prediction)"
   ]
  },
  {
   "cell_type": "code",
   "execution_count": 25,
   "metadata": {},
   "outputs": [
    {
     "name": "stdout",
     "output_type": "stream",
     "text": [
      "The R^2 score for test data is: -5418.754043912117\n"
     ]
    }
   ],
   "source": [
    "r2_rfr = r2_score(y, y_rfr_prediction)\n",
    "\n",
    "print(\"The R^2 score for test data is:\", r2_rfr)"
   ]
  },
  {
   "cell_type": "code",
   "execution_count": null,
   "metadata": {},
   "outputs": [],
   "source": [
    "from sklearn.neighbors import KNeighborsRegressor\n",
    "knr = pickle.load(open('knr_final_model.pkl', 'rb'))\n"
   ]
  },
  {
   "cell_type": "code",
   "execution_count": null,
   "metadata": {},
   "outputs": [],
   "source": [
    "y_knr_prediction = knr.predict(X_final_scale)\n",
    "c_to_f(y_knr_prediction)"
   ]
  },
  {
   "cell_type": "code",
   "execution_count": null,
   "metadata": {},
   "outputs": [],
   "source": [
    "r2_knr = r2_score(y, y_knr_prediction)\n",
    "\n",
    "print(\"The R^2 score for test data is:\", r2_knr)"
   ]
  },
  {
   "cell_type": "code",
   "execution_count": null,
   "metadata": {},
   "outputs": [],
   "source": []
  }
 ],
 "metadata": {
  "kernelspec": {
   "display_name": "Python [conda env:PythonData]",
   "language": "python",
   "name": "conda-env-PythonData-py"
  },
  "language_info": {
   "codemirror_mode": {
    "name": "ipython",
    "version": 3
   },
   "file_extension": ".py",
   "mimetype": "text/x-python",
   "name": "python",
   "nbconvert_exporter": "python",
   "pygments_lexer": "ipython3",
   "version": "3.6.7"
  }
 },
 "nbformat": 4,
 "nbformat_minor": 2
}
